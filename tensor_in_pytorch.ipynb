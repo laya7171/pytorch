{
  "nbformat": 4,
  "nbformat_minor": 0,
  "metadata": {
    "colab": {
      "provenance": [],
      "gpuType": "T4",
      "authorship_tag": "ABX9TyO9SL0NtaIV8+yxU5vMuGhB",
      "include_colab_link": true
    },
    "kernelspec": {
      "name": "python3",
      "display_name": "Python 3"
    },
    "language_info": {
      "name": "python"
    },
    "accelerator": "GPU"
  },
  "cells": [
    {
      "cell_type": "markdown",
      "metadata": {
        "id": "view-in-github",
        "colab_type": "text"
      },
      "source": [
        "<a href=\"https://colab.research.google.com/github/laya7171/pytorch/blob/main/tensor_in_pytorch.ipynb\" target=\"_parent\"><img src=\"https://colab.research.google.com/assets/colab-badge.svg\" alt=\"Open In Colab\"/></a>"
      ]
    },
    {
      "cell_type": "code",
      "execution_count": 2,
      "metadata": {
        "id": "mug2Vzi_72PB"
      },
      "outputs": [],
      "source": [
        "import torch"
      ]
    },
    {
      "cell_type": "code",
      "source": [
        "print(torch.__version__)"
      ],
      "metadata": {
        "colab": {
          "base_uri": "https://localhost:8080/"
        },
        "id": "OrGwRB9J76FN",
        "outputId": "083a9567-41fd-4dfb-b637-e8831c443c4a"
      },
      "execution_count": 3,
      "outputs": [
        {
          "output_type": "stream",
          "name": "stdout",
          "text": [
            "2.8.0+cu126\n"
          ]
        }
      ]
    },
    {
      "cell_type": "code",
      "source": [
        "if torch.cuda.is_available():\n",
        "  print(\"The model works in gpu\")\n",
        "  print(f\"The GPU version is {torch.cuda.get_device_name(0)}\")\n",
        "else:\n",
        "  print(\"The model is working in cpu\")\n"
      ],
      "metadata": {
        "colab": {
          "base_uri": "https://localhost:8080/"
        },
        "id": "NwpY8kf57-ar",
        "outputId": "d6de1dea-e0d0-4453-e389-c3fd9eb23b0c"
      },
      "execution_count": 4,
      "outputs": [
        {
          "output_type": "stream",
          "name": "stdout",
          "text": [
            "The model works in gpu\n",
            "The GPU version is Tesla T4\n"
          ]
        }
      ]
    },
    {
      "cell_type": "markdown",
      "source": [
        "## Creating tensors"
      ],
      "metadata": {
        "id": "GTEudQl08xuj"
      }
    },
    {
      "cell_type": "code",
      "source": [
        "#using empty\n",
        "a = torch.empty(2,3) #allocates space in memory and shows the existing value in the memory\n",
        "print(a)"
      ],
      "metadata": {
        "colab": {
          "base_uri": "https://localhost:8080/"
        },
        "id": "h_dOfVcW8TQ9",
        "outputId": "58110373-0f7a-4cc6-d5ec-5037982d0b27"
      },
      "execution_count": 5,
      "outputs": [
        {
          "output_type": "stream",
          "name": "stdout",
          "text": [
            "tensor([[3.7956e-16, 4.4159e-41, 3.7956e-16],\n",
            "        [4.4159e-41, 0.0000e+00, 0.0000e+00]])\n"
          ]
        }
      ]
    },
    {
      "cell_type": "code",
      "source": [
        "#check type\n",
        "type(a)"
      ],
      "metadata": {
        "colab": {
          "base_uri": "https://localhost:8080/"
        },
        "id": "p84w4kfw9B_v",
        "outputId": "a6fef38e-20b1-43cc-d692-e81803141b27"
      },
      "execution_count": 6,
      "outputs": [
        {
          "output_type": "execute_result",
          "data": {
            "text/plain": [
              "torch.Tensor"
            ]
          },
          "metadata": {},
          "execution_count": 6
        }
      ]
    },
    {
      "cell_type": "code",
      "source": [
        "#using zeros\n",
        "torch.zeros(2,2) #similar to using the numpy zeros (can be used to initialize the bias in the NN)"
      ],
      "metadata": {
        "colab": {
          "base_uri": "https://localhost:8080/"
        },
        "id": "bpiId4OA9XLV",
        "outputId": "bf6b5aca-a8fd-440b-bf65-f66a1661c427"
      },
      "execution_count": 7,
      "outputs": [
        {
          "output_type": "execute_result",
          "data": {
            "text/plain": [
              "tensor([[0., 0.],\n",
              "        [0., 0.]])"
            ]
          },
          "metadata": {},
          "execution_count": 7
        }
      ]
    },
    {
      "cell_type": "code",
      "source": [
        "torch.ones(1,1)"
      ],
      "metadata": {
        "colab": {
          "base_uri": "https://localhost:8080/"
        },
        "id": "WUj7EwWb9byi",
        "outputId": "18034d29-6af1-4c46-e816-8344b6007d31"
      },
      "execution_count": 8,
      "outputs": [
        {
          "output_type": "execute_result",
          "data": {
            "text/plain": [
              "tensor([[1.]])"
            ]
          },
          "metadata": {},
          "execution_count": 8
        }
      ]
    },
    {
      "cell_type": "code",
      "source": [
        "torch.rand(3,3) #random number form 0-1 in the shape 3,3"
      ],
      "metadata": {
        "colab": {
          "base_uri": "https://localhost:8080/"
        },
        "id": "sGUYtAD99mA4",
        "outputId": "96f77402-156d-4f39-e77a-9bcd7935ebdf"
      },
      "execution_count": 9,
      "outputs": [
        {
          "output_type": "execute_result",
          "data": {
            "text/plain": [
              "tensor([[0.7591, 0.3063, 0.4518],\n",
              "        [0.4731, 0.8637, 0.8199],\n",
              "        [0.4947, 0.1717, 0.2459]])"
            ]
          },
          "metadata": {},
          "execution_count": 9
        }
      ]
    },
    {
      "cell_type": "code",
      "source": [
        "torch.manual_seed(100)\n",
        "torch.rand(3,3) #we use this to get deterministic answer from the rand function"
      ],
      "metadata": {
        "colab": {
          "base_uri": "https://localhost:8080/"
        },
        "id": "yc4zwRjB9oWX",
        "outputId": "aaa9534d-0de8-4a13-c51a-7bc6e72434ad"
      },
      "execution_count": 10,
      "outputs": [
        {
          "output_type": "execute_result",
          "data": {
            "text/plain": [
              "tensor([[0.1117, 0.8158, 0.2626],\n",
              "        [0.4839, 0.6765, 0.7539],\n",
              "        [0.2627, 0.0428, 0.2080]])"
            ]
          },
          "metadata": {},
          "execution_count": 10
        }
      ]
    },
    {
      "cell_type": "code",
      "source": [
        "torch.tensor([[1,2,3],[3,4,5]])"
      ],
      "metadata": {
        "colab": {
          "base_uri": "https://localhost:8080/"
        },
        "id": "jb_G-XZ495dl",
        "outputId": "1070dcde-bcdd-4a0d-fb84-117d82b151ee"
      },
      "execution_count": 11,
      "outputs": [
        {
          "output_type": "execute_result",
          "data": {
            "text/plain": [
              "tensor([[1, 2, 3],\n",
              "        [3, 4, 5]])"
            ]
          },
          "metadata": {},
          "execution_count": 11
        }
      ]
    },
    {
      "cell_type": "code",
      "source": [
        "torch.arange(1,10)"
      ],
      "metadata": {
        "colab": {
          "base_uri": "https://localhost:8080/"
        },
        "id": "AuX5280n-Ih_",
        "outputId": "7d372c62-2f83-4e56-fe2a-eb9ebb5af6b3"
      },
      "execution_count": 12,
      "outputs": [
        {
          "output_type": "execute_result",
          "data": {
            "text/plain": [
              "tensor([1, 2, 3, 4, 5, 6, 7, 8, 9])"
            ]
          },
          "metadata": {},
          "execution_count": 12
        }
      ]
    },
    {
      "cell_type": "code",
      "source": [
        "torch.linspace(1,100,10)"
      ],
      "metadata": {
        "colab": {
          "base_uri": "https://localhost:8080/"
        },
        "id": "X8sWhSqV-L9L",
        "outputId": "05fabf42-bd34-4b4a-eb9e-baac5b64a6e8"
      },
      "execution_count": 13,
      "outputs": [
        {
          "output_type": "execute_result",
          "data": {
            "text/plain": [
              "tensor([  1.,  12.,  23.,  34.,  45.,  56.,  67.,  78.,  89., 100.])"
            ]
          },
          "metadata": {},
          "execution_count": 13
        }
      ]
    },
    {
      "cell_type": "code",
      "source": [
        "torch.eye(3,3) #the eye stands for identiy"
      ],
      "metadata": {
        "colab": {
          "base_uri": "https://localhost:8080/"
        },
        "id": "FppQjkp0-VJ-",
        "outputId": "c4fc6748-3e3f-45ec-80c1-bdfecd42204a"
      },
      "execution_count": 14,
      "outputs": [
        {
          "output_type": "execute_result",
          "data": {
            "text/plain": [
              "tensor([[1., 0., 0.],\n",
              "        [0., 1., 0.],\n",
              "        [0., 0., 1.]])"
            ]
          },
          "metadata": {},
          "execution_count": 14
        }
      ]
    },
    {
      "cell_type": "code",
      "source": [
        "torch.full((3,3),5) # 3x3 matrix of the all value 5"
      ],
      "metadata": {
        "colab": {
          "base_uri": "https://localhost:8080/"
        },
        "id": "_DCtKwxh-X-s",
        "outputId": "d9e7421f-2d1d-4c30-9327-f5f0086a262e"
      },
      "execution_count": 15,
      "outputs": [
        {
          "output_type": "execute_result",
          "data": {
            "text/plain": [
              "tensor([[5, 5, 5],\n",
              "        [5, 5, 5],\n",
              "        [5, 5, 5]])"
            ]
          },
          "metadata": {},
          "execution_count": 15
        }
      ]
    },
    {
      "cell_type": "markdown",
      "source": [
        "# Tensor Shapes"
      ],
      "metadata": {
        "id": "N-f1fkcQ-w87"
      }
    },
    {
      "cell_type": "code",
      "source": [
        "x = torch.tensor([[1,2,3],[4,5,6]])"
      ],
      "metadata": {
        "id": "sLEPEQMe-ig6"
      },
      "execution_count": 16,
      "outputs": []
    },
    {
      "cell_type": "code",
      "source": [
        "x.shape"
      ],
      "metadata": {
        "colab": {
          "base_uri": "https://localhost:8080/"
        },
        "id": "PrEwit6E-ztH",
        "outputId": "2d60144c-a166-4a1e-d493-f1816d50e5c1"
      },
      "execution_count": 17,
      "outputs": [
        {
          "output_type": "execute_result",
          "data": {
            "text/plain": [
              "torch.Size([2, 3])"
            ]
          },
          "metadata": {},
          "execution_count": 17
        }
      ]
    },
    {
      "cell_type": "code",
      "source": [
        "y = torch.empty_like(x)\n",
        "print(y) #same shape like x but the values are different"
      ],
      "metadata": {
        "colab": {
          "base_uri": "https://localhost:8080/"
        },
        "id": "RvuLkRYm-5JF",
        "outputId": "854aa4c9-9d2e-4322-e1fc-c36bb3a5571d"
      },
      "execution_count": 18,
      "outputs": [
        {
          "output_type": "stream",
          "name": "stdout",
          "text": [
            "tensor([[0, 0, 0],\n",
            "        [0, 1, 0]])\n"
          ]
        }
      ]
    },
    {
      "cell_type": "code",
      "source": [
        "y = torch.zeros_like(x)\n",
        "y"
      ],
      "metadata": {
        "colab": {
          "base_uri": "https://localhost:8080/"
        },
        "id": "GW0uFDcJ_OSM",
        "outputId": "93df2a5c-4304-44fe-a026-5473eb145f60"
      },
      "execution_count": 19,
      "outputs": [
        {
          "output_type": "execute_result",
          "data": {
            "text/plain": [
              "tensor([[0, 0, 0],\n",
              "        [0, 0, 0]])"
            ]
          },
          "metadata": {},
          "execution_count": 19
        }
      ]
    },
    {
      "cell_type": "code",
      "source": [
        "y = torch.rand_like(x, dtype= float)\n",
        "print(y)"
      ],
      "metadata": {
        "colab": {
          "base_uri": "https://localhost:8080/"
        },
        "id": "0NnCygtu_Yz_",
        "outputId": "6aef686e-60a9-4047-c253-7a2e229e9c18"
      },
      "execution_count": 20,
      "outputs": [
        {
          "output_type": "stream",
          "name": "stdout",
          "text": [
            "tensor([[0.9443, 0.8848, 0.3006],\n",
            "        [0.2113, 0.0521, 0.4188]], dtype=torch.float64)\n"
          ]
        }
      ]
    },
    {
      "cell_type": "markdown",
      "source": [
        "# Tensor Datatypes"
      ],
      "metadata": {
        "id": "FpX8TxC0_pLk"
      }
    },
    {
      "cell_type": "code",
      "source": [
        "#find the data type\n",
        "x.dtype"
      ],
      "metadata": {
        "colab": {
          "base_uri": "https://localhost:8080/"
        },
        "id": "MyMFPStJ_e2b",
        "outputId": "9a43ec18-ced5-44e8-f7e9-120ebc9c6a36"
      },
      "execution_count": 21,
      "outputs": [
        {
          "output_type": "execute_result",
          "data": {
            "text/plain": [
              "torch.int64"
            ]
          },
          "metadata": {},
          "execution_count": 21
        }
      ]
    },
    {
      "cell_type": "code",
      "source": [
        "#assign datatype\n",
        "x = torch.tensor([1.0,2.0,3.0], dtype= float)\n",
        "x.dtype"
      ],
      "metadata": {
        "colab": {
          "base_uri": "https://localhost:8080/"
        },
        "id": "2ey6LmB7_uDl",
        "outputId": "8947d367-df65-4fbd-c9c8-b73c5e925616"
      },
      "execution_count": 22,
      "outputs": [
        {
          "output_type": "execute_result",
          "data": {
            "text/plain": [
              "torch.float64"
            ]
          },
          "metadata": {},
          "execution_count": 22
        }
      ]
    },
    {
      "cell_type": "code",
      "source": [
        "x.to(float)"
      ],
      "metadata": {
        "colab": {
          "base_uri": "https://localhost:8080/"
        },
        "id": "tIkMSgqn_wka",
        "outputId": "deec5fba-f2e3-4bf8-f6c5-0c69f0d36c2a"
      },
      "execution_count": 23,
      "outputs": [
        {
          "output_type": "execute_result",
          "data": {
            "text/plain": [
              "tensor([1., 2., 3.], dtype=torch.float64)"
            ]
          },
          "metadata": {},
          "execution_count": 23
        }
      ]
    },
    {
      "cell_type": "code",
      "source": [
        "x.dtype"
      ],
      "metadata": {
        "colab": {
          "base_uri": "https://localhost:8080/"
        },
        "id": "koceqZPJAS2d",
        "outputId": "37d7b37f-886d-433a-e7b4-a8cdad0ab9b9"
      },
      "execution_count": 24,
      "outputs": [
        {
          "output_type": "execute_result",
          "data": {
            "text/plain": [
              "torch.float64"
            ]
          },
          "metadata": {},
          "execution_count": 24
        }
      ]
    },
    {
      "cell_type": "markdown",
      "source": [
        "# Mathematical operations (tensor and scalar)"
      ],
      "metadata": {
        "id": "OXRETQ4eA9kU"
      }
    },
    {
      "cell_type": "code",
      "source": [
        "x = torch.tensor([1,2,3])\n",
        "y = 2"
      ],
      "metadata": {
        "id": "czVRwoemAUYz"
      },
      "execution_count": 25,
      "outputs": []
    },
    {
      "cell_type": "code",
      "source": [
        "#addition\n",
        "x = x+y\n",
        "x"
      ],
      "metadata": {
        "colab": {
          "base_uri": "https://localhost:8080/"
        },
        "id": "Qu0lhYsRBE-A",
        "outputId": "22ee8abf-4978-4813-9057-61fa7fa1b683"
      },
      "execution_count": 26,
      "outputs": [
        {
          "output_type": "execute_result",
          "data": {
            "text/plain": [
              "tensor([3, 4, 5])"
            ]
          },
          "metadata": {},
          "execution_count": 26
        }
      ]
    },
    {
      "cell_type": "code",
      "source": [
        "#subtraction, multiplication and division are all same\n",
        "x = x-y\n",
        "x"
      ],
      "metadata": {
        "colab": {
          "base_uri": "https://localhost:8080/"
        },
        "id": "31V3gHZ4BHta",
        "outputId": "5e8f28ef-4981-41dc-8aae-ceb3ef4e1655"
      },
      "execution_count": 27,
      "outputs": [
        {
          "output_type": "execute_result",
          "data": {
            "text/plain": [
              "tensor([1, 2, 3])"
            ]
          },
          "metadata": {},
          "execution_count": 27
        }
      ]
    },
    {
      "cell_type": "code",
      "source": [
        "#mod\n",
        "x = (x%100)/y\n",
        "x"
      ],
      "metadata": {
        "colab": {
          "base_uri": "https://localhost:8080/"
        },
        "id": "FP3d3-SKBKnm",
        "outputId": "5f3a18bd-1988-477f-9015-e135934f6737"
      },
      "execution_count": 28,
      "outputs": [
        {
          "output_type": "execute_result",
          "data": {
            "text/plain": [
              "tensor([0.5000, 1.0000, 1.5000])"
            ]
          },
          "metadata": {},
          "execution_count": 28
        }
      ]
    },
    {
      "cell_type": "code",
      "source": [
        "#power\n",
        "x = x**y\n",
        "x"
      ],
      "metadata": {
        "colab": {
          "base_uri": "https://localhost:8080/"
        },
        "id": "KkhpLX2lBW_a",
        "outputId": "87bd43ba-0174-42ca-b1c1-a61b00a216d6"
      },
      "execution_count": 29,
      "outputs": [
        {
          "output_type": "execute_result",
          "data": {
            "text/plain": [
              "tensor([0.2500, 1.0000, 2.2500])"
            ]
          },
          "metadata": {},
          "execution_count": 29
        }
      ]
    },
    {
      "cell_type": "markdown",
      "source": [
        "# Element wise operation"
      ],
      "metadata": {
        "id": "E0INd3buBpJU"
      }
    },
    {
      "cell_type": "code",
      "source": [
        "a = torch.rand(2,3)\n",
        "b = torch.rand(2,3\n",
        ")\n",
        "print(a)\n",
        "print(b)"
      ],
      "metadata": {
        "colab": {
          "base_uri": "https://localhost:8080/"
        },
        "id": "tgfTs2FlBoXR",
        "outputId": "065ba09e-a5c9-4760-fdbe-2d16a5490101"
      },
      "execution_count": 30,
      "outputs": [
        {
          "output_type": "stream",
          "name": "stdout",
          "text": [
            "tensor([[0.8238, 0.5557, 0.9770],\n",
            "        [0.4440, 0.9478, 0.7445]])\n",
            "tensor([[0.4892, 0.2426, 0.7003],\n",
            "        [0.5277, 0.2472, 0.7909]])\n"
          ]
        }
      ]
    },
    {
      "cell_type": "code",
      "source": [
        "#tensor addition\n",
        "sum = a+b\n",
        "sum\n",
        "\n",
        "#subtraction\n",
        "diff = a-b\n",
        "diff"
      ],
      "metadata": {
        "colab": {
          "base_uri": "https://localhost:8080/"
        },
        "id": "aGrnkOnEBiMf",
        "outputId": "66d8e9f9-67f0-4dbf-d39a-7574088f6856"
      },
      "execution_count": 31,
      "outputs": [
        {
          "output_type": "execute_result",
          "data": {
            "text/plain": [
              "tensor([[ 0.3346,  0.3132,  0.2767],\n",
              "        [-0.0837,  0.7007, -0.0464]])"
            ]
          },
          "metadata": {},
          "execution_count": 31
        }
      ]
    },
    {
      "cell_type": "code",
      "source": [
        "c = torch.tensor([1,2,-3,-1])\n",
        "print(c.abs())"
      ],
      "metadata": {
        "colab": {
          "base_uri": "https://localhost:8080/"
        },
        "id": "kvmk-rh7B17T",
        "outputId": "8b206911-8c64-4939-e77b-e6932953cbb5"
      },
      "execution_count": 32,
      "outputs": [
        {
          "output_type": "stream",
          "name": "stdout",
          "text": [
            "tensor([1, 2, 3, 1])\n"
          ]
        }
      ]
    },
    {
      "cell_type": "code",
      "source": [
        "print(c.neg())"
      ],
      "metadata": {
        "colab": {
          "base_uri": "https://localhost:8080/"
        },
        "id": "ZDdvP01DWh_j",
        "outputId": "a54cf9f8-9687-4df1-db16-5ab502435b82"
      },
      "execution_count": 33,
      "outputs": [
        {
          "output_type": "stream",
          "name": "stdout",
          "text": [
            "tensor([-1, -2,  3,  1])\n"
          ]
        }
      ]
    },
    {
      "cell_type": "code",
      "source": [
        "d = torch.tensor([1.3,3.2,3.9])\n",
        "print(f\"celling {torch.ceil(c)}\")\n",
        "print(f\"floor {c.floor()}\")"
      ],
      "metadata": {
        "colab": {
          "base_uri": "https://localhost:8080/"
        },
        "id": "FuyugEK5WnxV",
        "outputId": "0ca3838f-1284-4860-e0b9-826914b4d8a2"
      },
      "execution_count": 35,
      "outputs": [
        {
          "output_type": "stream",
          "name": "stdout",
          "text": [
            "celling tensor([ 1,  2, -3, -1])\n",
            "floor tensor([ 1,  2, -3, -1])\n"
          ]
        }
      ]
    },
    {
      "cell_type": "code",
      "source": [
        "#clamp\n",
        "torch.clamp(d, max =3, min= 2)"
      ],
      "metadata": {
        "colab": {
          "base_uri": "https://localhost:8080/"
        },
        "id": "qusXoQaEW2ZW",
        "outputId": "1de4082c-d9e8-42db-abf3-90d0ebc70cfb"
      },
      "execution_count": 36,
      "outputs": [
        {
          "output_type": "execute_result",
          "data": {
            "text/plain": [
              "tensor([2., 3., 3.])"
            ]
          },
          "metadata": {},
          "execution_count": 36
        }
      ]
    },
    {
      "cell_type": "markdown",
      "source": [
        "# Reduction operation|"
      ],
      "metadata": {
        "id": "9NwMWKDHXIsv"
      }
    },
    {
      "cell_type": "code",
      "source": [
        "e = torch.randint(size =(2,3), low = 1, high = 10)"
      ],
      "metadata": {
        "id": "-Ft30YcDXG0u"
      },
      "execution_count": 39,
      "outputs": []
    },
    {
      "cell_type": "code",
      "source": [
        "e"
      ],
      "metadata": {
        "colab": {
          "base_uri": "https://localhost:8080/"
        },
        "id": "ouEREmo6XRGg",
        "outputId": "a2ed59f0-172f-4da0-c7b7-6008f57f377c"
      },
      "execution_count": 40,
      "outputs": [
        {
          "output_type": "execute_result",
          "data": {
            "text/plain": [
              "tensor([[9, 3, 7],\n",
              "        [7, 4, 9]])"
            ]
          },
          "metadata": {},
          "execution_count": 40
        }
      ]
    },
    {
      "cell_type": "code",
      "source": [
        "#sum\n",
        "\n",
        "torch.sum(e)"
      ],
      "metadata": {
        "colab": {
          "base_uri": "https://localhost:8080/"
        },
        "id": "N-BsGXtTXaIZ",
        "outputId": "3e030a6f-831b-4806-d429-e1f02fba8d85"
      },
      "execution_count": 42,
      "outputs": [
        {
          "output_type": "execute_result",
          "data": {
            "text/plain": [
              "tensor(39)"
            ]
          },
          "metadata": {},
          "execution_count": 42
        }
      ]
    },
    {
      "cell_type": "code",
      "source": [
        "torch.sum(e[0], dim = -1)"
      ],
      "metadata": {
        "colab": {
          "base_uri": "https://localhost:8080/"
        },
        "id": "LxEt32MJXdVl",
        "outputId": "cbb1e50d-fc1f-4f2c-bc6f-22f2236ea001"
      },
      "execution_count": 46,
      "outputs": [
        {
          "output_type": "execute_result",
          "data": {
            "text/plain": [
              "tensor(19)"
            ]
          },
          "metadata": {},
          "execution_count": 46
        }
      ]
    },
    {
      "cell_type": "code",
      "source": [
        "torch.mean(e, dtype = torch.float32)"
      ],
      "metadata": {
        "colab": {
          "base_uri": "https://localhost:8080/"
        },
        "id": "6IK_eZb8Xg5m",
        "outputId": "7ab43427-dcc7-4747-f83c-28737b676ee8"
      },
      "execution_count": 49,
      "outputs": [
        {
          "output_type": "execute_result",
          "data": {
            "text/plain": [
              "tensor(6.5000)"
            ]
          },
          "metadata": {},
          "execution_count": 49
        }
      ]
    },
    {
      "cell_type": "code",
      "source": [
        "torch.median(e, dim = 1)"
      ],
      "metadata": {
        "colab": {
          "base_uri": "https://localhost:8080/"
        },
        "id": "qOWUFgrfXoKB",
        "outputId": "35e78123-1830-40e8-dd68-bfba930f78ff"
      },
      "execution_count": 50,
      "outputs": [
        {
          "output_type": "execute_result",
          "data": {
            "text/plain": [
              "torch.return_types.median(\n",
              "values=tensor([7, 7]),\n",
              "indices=tensor([2, 0]))"
            ]
          },
          "metadata": {},
          "execution_count": 50
        }
      ]
    },
    {
      "cell_type": "code",
      "source": [
        "torch.max(e)\n",
        "torch.min(e)"
      ],
      "metadata": {
        "colab": {
          "base_uri": "https://localhost:8080/"
        },
        "id": "NRq6FDo6X0gY",
        "outputId": "4b36cf17-207d-4be3-ddfb-57dce332aa26"
      },
      "execution_count": 51,
      "outputs": [
        {
          "output_type": "execute_result",
          "data": {
            "text/plain": [
              "tensor(3)"
            ]
          },
          "metadata": {},
          "execution_count": 51
        }
      ]
    },
    {
      "cell_type": "code",
      "source": [
        "torch.argmax(e[1])"
      ],
      "metadata": {
        "colab": {
          "base_uri": "https://localhost:8080/"
        },
        "id": "FtzuWSxGYNp0",
        "outputId": "3fb8a97b-64fa-4cd4-b837-0ca85696e677"
      },
      "execution_count": 63,
      "outputs": [
        {
          "output_type": "execute_result",
          "data": {
            "text/plain": [
              "tensor(2)"
            ]
          },
          "metadata": {},
          "execution_count": 63
        }
      ]
    },
    {
      "cell_type": "code",
      "source": [
        "torch.argmax(e)"
      ],
      "metadata": {
        "colab": {
          "base_uri": "https://localhost:8080/"
        },
        "id": "I-SmIuD2YPZc",
        "outputId": "50ebf83c-fe46-4700-b59d-f8c9fcb08100"
      },
      "execution_count": 62,
      "outputs": [
        {
          "output_type": "execute_result",
          "data": {
            "text/plain": [
              "tensor(0)"
            ]
          },
          "metadata": {},
          "execution_count": 62
        }
      ]
    },
    {
      "cell_type": "code",
      "source": [
        "torch.argmin(e)"
      ],
      "metadata": {
        "colab": {
          "base_uri": "https://localhost:8080/"
        },
        "id": "eddR7ZRXYS-V",
        "outputId": "a1f32b34-edd2-479e-f391-ec5a96a63940"
      },
      "execution_count": 64,
      "outputs": [
        {
          "output_type": "execute_result",
          "data": {
            "text/plain": [
              "tensor(1)"
            ]
          },
          "metadata": {},
          "execution_count": 64
        }
      ]
    },
    {
      "cell_type": "markdown",
      "source": [
        "# Matrix Operation"
      ],
      "metadata": {
        "id": "xJJF44qjYb6k"
      }
    },
    {
      "cell_type": "code",
      "source": [
        "mat1 = torch.randint(size =(3,3), low= 1, high= 10)\n",
        "mat2 = torch.randint(size =(3,3), low= 1, high= 10)"
      ],
      "metadata": {
        "id": "mv-w4YzPYZLJ"
      },
      "execution_count": 69,
      "outputs": []
    },
    {
      "cell_type": "code",
      "source": [
        "#matrix mulitplication\n",
        "torch.matmul(mat1, mat2)"
      ],
      "metadata": {
        "colab": {
          "base_uri": "https://localhost:8080/"
        },
        "id": "tj0VEKnrYgry",
        "outputId": "e1327e77-764b-46ea-e55b-acbe2963de54"
      },
      "execution_count": 71,
      "outputs": [
        {
          "output_type": "execute_result",
          "data": {
            "text/plain": [
              "tensor([[50, 15, 26],\n",
              "        [80, 33, 17],\n",
              "        [74, 22, 31]])"
            ]
          },
          "metadata": {},
          "execution_count": 71
        }
      ]
    },
    {
      "cell_type": "code",
      "source": [
        "mat1 = torch.tensor([1,2,3])\n",
        "mat2 = torch.tensor([4,5,6])\n",
        "\n",
        "torch.dot(mat1, mat2)"
      ],
      "metadata": {
        "colab": {
          "base_uri": "https://localhost:8080/"
        },
        "id": "Qc7xw69vY342",
        "outputId": "36130246-73a1-4666-a0c8-aad0101d808f"
      },
      "execution_count": 73,
      "outputs": [
        {
          "output_type": "execute_result",
          "data": {
            "text/plain": [
              "tensor(32)"
            ]
          },
          "metadata": {},
          "execution_count": 73
        }
      ]
    },
    {
      "cell_type": "code",
      "source": [
        "#transpose\n",
        "torch.transpose(mat1, 0, 0)"
      ],
      "metadata": {
        "colab": {
          "base_uri": "https://localhost:8080/"
        },
        "id": "-6IdhtLTY-bG",
        "outputId": "895ba8ab-603f-4b16-fb0a-45adccbd3159"
      },
      "execution_count": 79,
      "outputs": [
        {
          "output_type": "execute_result",
          "data": {
            "text/plain": [
              "tensor([1, 2, 3])"
            ]
          },
          "metadata": {},
          "execution_count": 79
        }
      ]
    },
    {
      "cell_type": "markdown",
      "source": [
        "# comparision operators"
      ],
      "metadata": {
        "id": "6ICvlpoVZ0Wg"
      }
    },
    {
      "cell_type": "code",
      "source": [
        "i = torch.randint(size = (3,3), low = 1, high = 10)\n",
        "j = torch.randint(size = (3,3), low = 1, high = 10)"
      ],
      "metadata": {
        "id": "ECNx46ZUZzng"
      },
      "execution_count": 86,
      "outputs": []
    },
    {
      "cell_type": "code",
      "source": [
        "i>j"
      ],
      "metadata": {
        "colab": {
          "base_uri": "https://localhost:8080/"
        },
        "id": "2cKFT6X3Z6h0",
        "outputId": "93ebcc64-a27f-425a-cb2f-2c645df2de71"
      },
      "execution_count": 87,
      "outputs": [
        {
          "output_type": "execute_result",
          "data": {
            "text/plain": [
              "tensor([[False,  True, False],\n",
              "        [False, False, False],\n",
              "        [False,  True, False]])"
            ]
          },
          "metadata": {},
          "execution_count": 87
        }
      ]
    },
    {
      "cell_type": "code",
      "source": [
        "i<j"
      ],
      "metadata": {
        "colab": {
          "base_uri": "https://localhost:8080/"
        },
        "id": "QiyxkdmYaQ-o",
        "outputId": "d7633d8d-7b1a-4e3c-e6b6-87128b44d67e"
      },
      "execution_count": 88,
      "outputs": [
        {
          "output_type": "execute_result",
          "data": {
            "text/plain": [
              "tensor([[ True, False,  True],\n",
              "        [ True,  True,  True],\n",
              "        [False, False,  True]])"
            ]
          },
          "metadata": {},
          "execution_count": 88
        }
      ]
    },
    {
      "cell_type": "code",
      "source": [
        "i=j"
      ],
      "metadata": {
        "id": "KdRR6obJaTRB"
      },
      "execution_count": 89,
      "outputs": []
    },
    {
      "cell_type": "code",
      "source": [
        "i!=j"
      ],
      "metadata": {
        "colab": {
          "base_uri": "https://localhost:8080/"
        },
        "id": "SYGCO2uiaUAf",
        "outputId": "9bbce93c-fc40-4696-c422-72d0df14de27"
      },
      "execution_count": 90,
      "outputs": [
        {
          "output_type": "execute_result",
          "data": {
            "text/plain": [
              "tensor([[False, False, False],\n",
              "        [False, False, False],\n",
              "        [False, False, False]])"
            ]
          },
          "metadata": {},
          "execution_count": 90
        }
      ]
    },
    {
      "cell_type": "code",
      "source": [],
      "metadata": {
        "id": "an_R-y58aVTg"
      },
      "execution_count": null,
      "outputs": []
    },
    {
      "cell_type": "markdown",
      "source": [
        "# special functions"
      ],
      "metadata": {
        "id": "0YFJmVBdaYUS"
      }
    },
    {
      "cell_type": "code",
      "source": [
        "k = torch.randint(size = (3,3), low = 1 , high = 10)"
      ],
      "metadata": {
        "id": "vE5MEhlLaaBl"
      },
      "execution_count": 91,
      "outputs": []
    },
    {
      "cell_type": "code",
      "source": [
        "torch.log(k)"
      ],
      "metadata": {
        "colab": {
          "base_uri": "https://localhost:8080/"
        },
        "id": "ZE8nf6mGafnI",
        "outputId": "8ec2b706-b1f8-4d93-fc0d-28774199c017"
      },
      "execution_count": 92,
      "outputs": [
        {
          "output_type": "execute_result",
          "data": {
            "text/plain": [
              "tensor([[1.9459, 1.7918, 1.6094],\n",
              "        [0.6931, 0.0000, 2.0794],\n",
              "        [1.7918, 1.9459, 0.6931]])"
            ]
          },
          "metadata": {},
          "execution_count": 92
        }
      ]
    },
    {
      "cell_type": "code",
      "source": [
        "torch.exp(k)"
      ],
      "metadata": {
        "colab": {
          "base_uri": "https://localhost:8080/"
        },
        "id": "2Iwd8r2fagu3",
        "outputId": "a1963a03-c0fb-41b2-a1e1-934ab2b9e02f"
      },
      "execution_count": 93,
      "outputs": [
        {
          "output_type": "execute_result",
          "data": {
            "text/plain": [
              "tensor([[1.0966e+03, 4.0343e+02, 1.4841e+02],\n",
              "        [7.3891e+00, 2.7183e+00, 2.9810e+03],\n",
              "        [4.0343e+02, 1.0966e+03, 7.3891e+00]])"
            ]
          },
          "metadata": {},
          "execution_count": 93
        }
      ]
    },
    {
      "cell_type": "code",
      "source": [
        "torch.sqrt(k)"
      ],
      "metadata": {
        "colab": {
          "base_uri": "https://localhost:8080/"
        },
        "id": "pqLf5fpKakZr",
        "outputId": "956f7cc9-d712-42da-c8a8-f7f75f160ffd"
      },
      "execution_count": 95,
      "outputs": [
        {
          "output_type": "execute_result",
          "data": {
            "text/plain": [
              "tensor([[2.6458, 2.4495, 2.2361],\n",
              "        [1.4142, 1.0000, 2.8284],\n",
              "        [2.4495, 2.6458, 1.4142]])"
            ]
          },
          "metadata": {},
          "execution_count": 95
        }
      ]
    },
    {
      "cell_type": "markdown",
      "source": [
        "# Inplace operation(_ will replace thea actual value)"
      ],
      "metadata": {
        "id": "jFvDGMSNbnGM"
      }
    },
    {
      "cell_type": "code",
      "source": [
        "m = torch.rand(2,3)\n",
        "n = torch.rand(2,3)"
      ],
      "metadata": {
        "id": "N-RG0UVtamUu"
      },
      "execution_count": 100,
      "outputs": []
    },
    {
      "cell_type": "code",
      "source": [
        "m = m.add_(n)"
      ],
      "metadata": {
        "id": "T1m5GDMZapwA"
      },
      "execution_count": 103,
      "outputs": []
    },
    {
      "cell_type": "code",
      "source": [
        "m.relu_()"
      ],
      "metadata": {
        "colab": {
          "base_uri": "https://localhost:8080/"
        },
        "id": "CSTbRXNVa5i5",
        "outputId": "87700a0d-5315-4bc8-ea3b-f769e78bc3a7"
      },
      "execution_count": 104,
      "outputs": [
        {
          "output_type": "execute_result",
          "data": {
            "text/plain": [
              "tensor([[1.3501, 1.0769, 0.1227],\n",
              "        [1.4047, 0.8966, 1.3610]])"
            ]
          },
          "metadata": {},
          "execution_count": 104
        }
      ]
    },
    {
      "cell_type": "code",
      "source": [
        "print(m)"
      ],
      "metadata": {
        "colab": {
          "base_uri": "https://localhost:8080/"
        },
        "id": "B40UU6FabhOW",
        "outputId": "f13e8464-14fc-4088-dc58-9c0b7e04f00b"
      },
      "execution_count": 105,
      "outputs": [
        {
          "output_type": "stream",
          "name": "stdout",
          "text": [
            "tensor([[1.3501, 1.0769, 0.1227],\n",
            "        [1.4047, 0.8966, 1.3610]])\n"
          ]
        }
      ]
    },
    {
      "cell_type": "markdown",
      "source": [
        "# Copy tensor"
      ],
      "metadata": {
        "id": "M6oDDgRHb10L"
      }
    },
    {
      "cell_type": "code",
      "source": [
        "a = torch.rand(3,3)\n",
        "a"
      ],
      "metadata": {
        "colab": {
          "base_uri": "https://localhost:8080/"
        },
        "id": "MMvnugmkbh5Z",
        "outputId": "6006e6ed-e54c-4df5-b7d4-a39c7edb6dda"
      },
      "execution_count": 110,
      "outputs": [
        {
          "output_type": "execute_result",
          "data": {
            "text/plain": [
              "tensor([[0.6688, 0.2651, 0.2336],\n",
              "        [0.5057, 0.5688, 0.0634],\n",
              "        [0.8993, 0.2732, 0.3397]])"
            ]
          },
          "metadata": {},
          "execution_count": 110
        }
      ]
    },
    {
      "cell_type": "code",
      "source": [
        "b = a"
      ],
      "metadata": {
        "id": "Nygn4vNPb7UM"
      },
      "execution_count": 111,
      "outputs": []
    },
    {
      "cell_type": "code",
      "source": [
        "b"
      ],
      "metadata": {
        "colab": {
          "base_uri": "https://localhost:8080/"
        },
        "id": "5ESjqhNwcBcN",
        "outputId": "a6f75829-31bc-4112-b774-856db9cf0e5c"
      },
      "execution_count": 112,
      "outputs": [
        {
          "output_type": "execute_result",
          "data": {
            "text/plain": [
              "tensor([[0.6688, 0.2651, 0.2336],\n",
              "        [0.5057, 0.5688, 0.0634],\n",
              "        [0.8993, 0.2732, 0.3397]])"
            ]
          },
          "metadata": {},
          "execution_count": 112
        }
      ]
    },
    {
      "cell_type": "code",
      "source": [
        "a[0][0] = 10"
      ],
      "metadata": {
        "id": "XV-Bq4BrcCET"
      },
      "execution_count": 113,
      "outputs": []
    },
    {
      "cell_type": "code",
      "source": [
        "a"
      ],
      "metadata": {
        "colab": {
          "base_uri": "https://localhost:8080/"
        },
        "id": "u_OoBMoXcJC3",
        "outputId": "968e2e45-1536-44f7-8578-60c305ad881c"
      },
      "execution_count": 114,
      "outputs": [
        {
          "output_type": "execute_result",
          "data": {
            "text/plain": [
              "tensor([[10.0000,  0.2651,  0.2336],\n",
              "        [ 0.5057,  0.5688,  0.0634],\n",
              "        [ 0.8993,  0.2732,  0.3397]])"
            ]
          },
          "metadata": {},
          "execution_count": 114
        }
      ]
    },
    {
      "cell_type": "code",
      "source": [
        "b"
      ],
      "metadata": {
        "colab": {
          "base_uri": "https://localhost:8080/"
        },
        "id": "j4XgOEtrcKa-",
        "outputId": "ab6c021c-6a04-4a0d-c798-3a82644d79e7"
      },
      "execution_count": 115,
      "outputs": [
        {
          "output_type": "execute_result",
          "data": {
            "text/plain": [
              "tensor([[10.0000,  0.2651,  0.2336],\n",
              "        [ 0.5057,  0.5688,  0.0634],\n",
              "        [ 0.8993,  0.2732,  0.3397]])"
            ]
          },
          "metadata": {},
          "execution_count": 115
        }
      ]
    },
    {
      "cell_type": "code",
      "source": [
        "print(id(b))\n",
        "print(id(a))"
      ],
      "metadata": {
        "colab": {
          "base_uri": "https://localhost:8080/"
        },
        "id": "vx0O7yLzcKpe",
        "outputId": "cadf0137-b2fe-409e-9f73-9eead0f1c150"
      },
      "execution_count": 116,
      "outputs": [
        {
          "output_type": "stream",
          "name": "stdout",
          "text": [
            "135342710736368\n",
            "135342710736368\n"
          ]
        }
      ]
    },
    {
      "cell_type": "code",
      "source": [
        "#the new b will only point to the original location of a variable so we use clone to create a new tensor"
      ],
      "metadata": {
        "id": "6P-UEMcQcVAx"
      },
      "execution_count": 117,
      "outputs": []
    },
    {
      "cell_type": "code",
      "source": [
        "b = a.clone()"
      ],
      "metadata": {
        "id": "c8LlMeeHccmD"
      },
      "execution_count": 118,
      "outputs": []
    },
    {
      "cell_type": "code",
      "source": [
        "b"
      ],
      "metadata": {
        "colab": {
          "base_uri": "https://localhost:8080/"
        },
        "id": "FFrrhLExcdvD",
        "outputId": "bb9701de-31c6-49d2-a002-d79cf52b3240"
      },
      "execution_count": 119,
      "outputs": [
        {
          "output_type": "execute_result",
          "data": {
            "text/plain": [
              "tensor([[10.0000,  0.2651,  0.2336],\n",
              "        [ 0.5057,  0.5688,  0.0634],\n",
              "        [ 0.8993,  0.2732,  0.3397]])"
            ]
          },
          "metadata": {},
          "execution_count": 119
        }
      ]
    },
    {
      "cell_type": "code",
      "source": [
        "print(id(a))\n",
        "print(id(b))"
      ],
      "metadata": {
        "colab": {
          "base_uri": "https://localhost:8080/"
        },
        "id": "cmt_YyxPceMj",
        "outputId": "82c5ef98-bdc4-45da-9eb5-b5981c6a67f9"
      },
      "execution_count": 120,
      "outputs": [
        {
          "output_type": "stream",
          "name": "stdout",
          "text": [
            "135342710736368\n",
            "135342710468160\n"
          ]
        }
      ]
    },
    {
      "cell_type": "markdown",
      "source": [
        "# Tensor Operation in GPU"
      ],
      "metadata": {
        "id": "ulmcTEvNexlg"
      }
    },
    {
      "cell_type": "code",
      "source": [
        "torch.cuda.is_available()"
      ],
      "metadata": {
        "colab": {
          "base_uri": "https://localhost:8080/"
        },
        "id": "gLmV_5DVcg0D",
        "outputId": "3fbca7ff-2714-4586-c00e-d81733775f93"
      },
      "execution_count": 121,
      "outputs": [
        {
          "output_type": "execute_result",
          "data": {
            "text/plain": [
              "True"
            ]
          },
          "metadata": {},
          "execution_count": 121
        }
      ]
    },
    {
      "cell_type": "code",
      "source": [
        "device = torch.device('cuda')"
      ],
      "metadata": {
        "id": "eVsryg9de1f3"
      },
      "execution_count": 122,
      "outputs": []
    },
    {
      "cell_type": "code",
      "source": [
        "#create new tensor in GPU\n",
        "torch.rand(2,3, device = device)"
      ],
      "metadata": {
        "colab": {
          "base_uri": "https://localhost:8080/"
        },
        "id": "J2_HvnLMe7Yq",
        "outputId": "71c479da-a844-4643-85ab-7bc55ac374cb"
      },
      "execution_count": 123,
      "outputs": [
        {
          "output_type": "execute_result",
          "data": {
            "text/plain": [
              "tensor([[0.3563, 0.0303, 0.7088],\n",
              "        [0.2009, 0.0224, 0.9896]], device='cuda:0')"
            ]
          },
          "metadata": {},
          "execution_count": 123
        }
      ]
    },
    {
      "cell_type": "code",
      "source": [
        "#move an existing tensor to gpu\n",
        "a = torch.rand(3,3)\n",
        "a"
      ],
      "metadata": {
        "colab": {
          "base_uri": "https://localhost:8080/"
        },
        "id": "UW_-WJT7fDnv",
        "outputId": "a84dd869-3db1-4fb2-e387-945a6a802e63"
      },
      "execution_count": 125,
      "outputs": [
        {
          "output_type": "execute_result",
          "data": {
            "text/plain": [
              "tensor([[0.9815, 0.1132, 0.4783],\n",
              "        [0.4436, 0.3847, 0.4521],\n",
              "        [0.5569, 0.9952, 0.0015]])"
            ]
          },
          "metadata": {},
          "execution_count": 125
        }
      ]
    },
    {
      "cell_type": "code",
      "source": [
        "b = a.to(device)"
      ],
      "metadata": {
        "id": "gXhnK7Z4fK0a"
      },
      "execution_count": 127,
      "outputs": []
    },
    {
      "cell_type": "code",
      "source": [
        "b = b + 5"
      ],
      "metadata": {
        "id": "b7EYsQFRfPuM"
      },
      "execution_count": 128,
      "outputs": []
    },
    {
      "cell_type": "code",
      "source": [
        "b"
      ],
      "metadata": {
        "colab": {
          "base_uri": "https://localhost:8080/"
        },
        "id": "nu7u_nDofUWf",
        "outputId": "6ce95757-e6b6-4185-a27d-6c56216aa339"
      },
      "execution_count": 129,
      "outputs": [
        {
          "output_type": "execute_result",
          "data": {
            "text/plain": [
              "tensor([[5.9815, 5.1132, 5.4783],\n",
              "        [5.4436, 5.3847, 5.4521],\n",
              "        [5.5569, 5.9952, 5.0015]], device='cuda:0')"
            ]
          },
          "metadata": {},
          "execution_count": 129
        }
      ]
    },
    {
      "cell_type": "markdown",
      "source": [
        "# Reshaping tensor"
      ],
      "metadata": {
        "id": "UMbbcfSyf0mf"
      }
    },
    {
      "cell_type": "code",
      "source": [
        "a = torch.rand(4,4)"
      ],
      "metadata": {
        "id": "QrFy4b_dfVGC"
      },
      "execution_count": 130,
      "outputs": []
    },
    {
      "cell_type": "code",
      "source": [
        "a.reshape(2,2,2,2)"
      ],
      "metadata": {
        "colab": {
          "base_uri": "https://localhost:8080/"
        },
        "id": "TdiKAp0kf64W",
        "outputId": "0b47fae0-3749-4e72-c01d-7a36799c0e16"
      },
      "execution_count": 131,
      "outputs": [
        {
          "output_type": "execute_result",
          "data": {
            "text/plain": [
              "tensor([[[[0.0813, 0.4907],\n",
              "          [0.2130, 0.4603]],\n",
              "\n",
              "         [[0.1386, 0.0277],\n",
              "          [0.5662, 0.3503]]],\n",
              "\n",
              "\n",
              "        [[[0.6555, 0.7667],\n",
              "          [0.2269, 0.7555]],\n",
              "\n",
              "         [[0.6458, 0.3673],\n",
              "          [0.1770, 0.2966]]]])"
            ]
          },
          "metadata": {},
          "execution_count": 131
        }
      ]
    },
    {
      "cell_type": "code",
      "source": [
        " #flatten\n",
        " a.flatten()"
      ],
      "metadata": {
        "colab": {
          "base_uri": "https://localhost:8080/"
        },
        "id": "iwXO-P19f9og",
        "outputId": "5aa3285e-d7c1-47dd-aa84-adedb255f310"
      },
      "execution_count": 132,
      "outputs": [
        {
          "output_type": "execute_result",
          "data": {
            "text/plain": [
              "tensor([0.0813, 0.4907, 0.2130, 0.4603, 0.1386, 0.0277, 0.5662, 0.3503, 0.6555,\n",
              "        0.7667, 0.2269, 0.7555, 0.6458, 0.3673, 0.1770, 0.2966])"
            ]
          },
          "metadata": {},
          "execution_count": 132
        }
      ]
    },
    {
      "cell_type": "code",
      "source": [
        "#permute\n",
        "\n",
        "b = torch.rand(2,3,4)"
      ],
      "metadata": {
        "id": "4DWxMx3LgC6S"
      },
      "execution_count": 133,
      "outputs": []
    },
    {
      "cell_type": "code",
      "source": [
        "b"
      ],
      "metadata": {
        "colab": {
          "base_uri": "https://localhost:8080/"
        },
        "id": "CkIjCdxdgMLH",
        "outputId": "31c7d0cd-cb94-4390-a49c-15916d66b067"
      },
      "execution_count": 134,
      "outputs": [
        {
          "output_type": "execute_result",
          "data": {
            "text/plain": [
              "tensor([[[0.9925, 0.2103, 0.1292, 0.1719],\n",
              "         [0.9127, 0.6818, 0.1953, 0.9991],\n",
              "         [0.1133, 0.0135, 0.1450, 0.7819]],\n",
              "\n",
              "        [[0.3134, 0.2983, 0.3436, 0.2028],\n",
              "         [0.9792, 0.4947, 0.3617, 0.9687],\n",
              "         [0.0359, 0.3041, 0.9867, 0.1290]]])"
            ]
          },
          "metadata": {},
          "execution_count": 134
        }
      ]
    },
    {
      "cell_type": "code",
      "source": [
        "b.permute(2,0,1).shape"
      ],
      "metadata": {
        "colab": {
          "base_uri": "https://localhost:8080/"
        },
        "id": "BARG8ZvLgMjz",
        "outputId": "dd1ca806-ef8e-4234-e630-72e42520ccf7"
      },
      "execution_count": 136,
      "outputs": [
        {
          "output_type": "execute_result",
          "data": {
            "text/plain": [
              "torch.Size([4, 2, 3])"
            ]
          },
          "metadata": {},
          "execution_count": 136
        }
      ]
    },
    {
      "cell_type": "code",
      "source": [
        "#unsqueeze\n",
        "c = torch.rand(226, 226, 3)"
      ],
      "metadata": {
        "id": "lM_urb1ngT1Y"
      },
      "execution_count": 137,
      "outputs": []
    },
    {
      "cell_type": "code",
      "source": [
        "c.unsqueeze(dim = 1)"
      ],
      "metadata": {
        "colab": {
          "base_uri": "https://localhost:8080/"
        },
        "id": "MfR9j__yghXH",
        "outputId": "96cd84a6-51c1-4d5b-ed5a-e8bc738863b6"
      },
      "execution_count": 139,
      "outputs": [
        {
          "output_type": "execute_result",
          "data": {
            "text/plain": [
              "tensor([[[[0.6887, 0.1637, 0.0899],\n",
              "          [0.3139, 0.1219, 0.3516],\n",
              "          [0.2316, 0.2847, 0.3520],\n",
              "          ...,\n",
              "          [0.2428, 0.4881, 0.6281],\n",
              "          [0.8568, 0.9674, 0.4428],\n",
              "          [0.0791, 0.6539, 0.3447]]],\n",
              "\n",
              "\n",
              "        [[[0.7785, 0.6370, 0.2124],\n",
              "          [0.9821, 0.4343, 0.2382],\n",
              "          [0.6962, 0.4898, 0.0646],\n",
              "          ...,\n",
              "          [0.9809, 0.8731, 0.1416],\n",
              "          [0.8880, 0.5099, 0.3832],\n",
              "          [0.7232, 0.6196, 0.4628]]],\n",
              "\n",
              "\n",
              "        [[[0.0739, 0.6235, 0.4039],\n",
              "          [0.5057, 0.1776, 0.7293],\n",
              "          [0.5721, 0.0961, 0.5017],\n",
              "          ...,\n",
              "          [0.9451, 0.9376, 0.9769],\n",
              "          [0.1995, 0.9909, 0.0672],\n",
              "          [0.4121, 0.3801, 0.9914]]],\n",
              "\n",
              "\n",
              "        ...,\n",
              "\n",
              "\n",
              "        [[[0.7815, 0.7430, 0.5677],\n",
              "          [0.6829, 0.3753, 0.0321],\n",
              "          [0.2815, 0.2480, 0.2798],\n",
              "          ...,\n",
              "          [0.2911, 0.4973, 0.3853],\n",
              "          [0.9836, 0.5983, 0.8536],\n",
              "          [0.4839, 0.5428, 0.4155]]],\n",
              "\n",
              "\n",
              "        [[[0.3331, 0.7534, 0.5697],\n",
              "          [0.0665, 0.2682, 0.6563],\n",
              "          [0.2060, 0.7951, 0.7277],\n",
              "          ...,\n",
              "          [0.7474, 0.9425, 0.7404],\n",
              "          [0.5011, 0.9695, 0.4638],\n",
              "          [0.1720, 0.4390, 0.0365]]],\n",
              "\n",
              "\n",
              "        [[[0.8281, 0.7714, 0.0101],\n",
              "          [0.0836, 0.3163, 0.1195],\n",
              "          [0.7078, 0.9201, 0.3073],\n",
              "          ...,\n",
              "          [0.4908, 0.9845, 0.0086],\n",
              "          [0.6571, 0.4712, 0.9309],\n",
              "          [0.7066, 0.2748, 0.6709]]]])"
            ]
          },
          "metadata": {},
          "execution_count": 139
        }
      ]
    },
    {
      "cell_type": "code",
      "source": [
        "c.unsqueeze(0).shape"
      ],
      "metadata": {
        "colab": {
          "base_uri": "https://localhost:8080/"
        },
        "id": "kaXu-ggPgmj_",
        "outputId": "4807b2ad-ed9a-44f1-fe4c-2a926bd18fee"
      },
      "execution_count": 140,
      "outputs": [
        {
          "output_type": "execute_result",
          "data": {
            "text/plain": [
              "torch.Size([1, 226, 226, 3])"
            ]
          },
          "metadata": {},
          "execution_count": 140
        }
      ]
    },
    {
      "cell_type": "code",
      "source": [
        "import numpy as np"
      ],
      "metadata": {
        "id": "MdP934K4gsDd"
      },
      "execution_count": 141,
      "outputs": []
    },
    {
      "cell_type": "code",
      "source": [
        "a = np.array([1,2,3])"
      ],
      "metadata": {
        "id": "c6z61AiWhA30"
      },
      "execution_count": 142,
      "outputs": []
    },
    {
      "cell_type": "code",
      "source": [
        "a"
      ],
      "metadata": {
        "colab": {
          "base_uri": "https://localhost:8080/"
        },
        "id": "4HnVEcqWhDm4",
        "outputId": "7a18945d-d3dd-40ac-c0eb-c1b7522c5dff"
      },
      "execution_count": 143,
      "outputs": [
        {
          "output_type": "execute_result",
          "data": {
            "text/plain": [
              "array([1, 2, 3])"
            ]
          },
          "metadata": {},
          "execution_count": 143
        }
      ]
    },
    {
      "cell_type": "code",
      "source": [
        "a.dtype"
      ],
      "metadata": {
        "colab": {
          "base_uri": "https://localhost:8080/"
        },
        "id": "oHDNcLyhhEHY",
        "outputId": "ba729e5a-2d24-4187-d668-aae851345bec"
      },
      "execution_count": 144,
      "outputs": [
        {
          "output_type": "execute_result",
          "data": {
            "text/plain": [
              "dtype('int64')"
            ]
          },
          "metadata": {},
          "execution_count": 144
        }
      ]
    },
    {
      "cell_type": "code",
      "source": [
        "b = torch.tensor([5,6,7])"
      ],
      "metadata": {
        "id": "mZbSIW0bhEyJ"
      },
      "execution_count": 145,
      "outputs": []
    },
    {
      "cell_type": "code",
      "source": [
        "b = b.numpy"
      ],
      "metadata": {
        "id": "yWDNx2xfhMVy"
      },
      "execution_count": 146,
      "outputs": []
    },
    {
      "cell_type": "code",
      "source": [
        "type(b)"
      ],
      "metadata": {
        "colab": {
          "base_uri": "https://localhost:8080/"
        },
        "id": "fpNy6rFthQMP",
        "outputId": "2aeda814-660f-4b7c-e253-8f083702d443"
      },
      "execution_count": 148,
      "outputs": [
        {
          "output_type": "execute_result",
          "data": {
            "text/plain": [
              "builtin_function_or_method"
            ]
          },
          "metadata": {},
          "execution_count": 148
        }
      ]
    },
    {
      "cell_type": "code",
      "source": [
        "torch.from_numpy(a)"
      ],
      "metadata": {
        "colab": {
          "base_uri": "https://localhost:8080/"
        },
        "id": "Sgm-6_RthQcI",
        "outputId": "29e45808-b49f-443d-efd3-dcec0190858d"
      },
      "execution_count": 150,
      "outputs": [
        {
          "output_type": "execute_result",
          "data": {
            "text/plain": [
              "tensor([1, 2, 3])"
            ]
          },
          "metadata": {},
          "execution_count": 150
        }
      ]
    },
    {
      "cell_type": "code",
      "source": [
        ""
      ],
      "metadata": {
        "id": "m7wg39obhcba"
      },
      "execution_count": null,
      "outputs": []
    }
  ]
}