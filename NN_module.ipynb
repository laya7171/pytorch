{
  "nbformat": 4,
  "nbformat_minor": 0,
  "metadata": {
    "colab": {
      "provenance": [],
      "authorship_tag": "ABX9TyPM9oZ4iWca94OJ7C6o1NdR",
      "include_colab_link": true
    },
    "kernelspec": {
      "name": "python3",
      "display_name": "Python 3"
    },
    "language_info": {
      "name": "python"
    }
  },
  "cells": [
    {
      "cell_type": "markdown",
      "metadata": {
        "id": "view-in-github",
        "colab_type": "text"
      },
      "source": [
        "<a href=\"https://colab.research.google.com/github/laya7171/pytorch/blob/main/NN_module.ipynb\" target=\"_parent\"><img src=\"https://colab.research.google.com/assets/colab-badge.svg\" alt=\"Open In Colab\"/></a>"
      ]
    },
    {
      "cell_type": "code",
      "execution_count": 37,
      "metadata": {
        "id": "n8_7legytgr-"
      },
      "outputs": [],
      "source": [
        "import torch\n",
        "import torch.nn as nn\n",
        "from torch.nn import Sequential"
      ]
    },
    {
      "cell_type": "code",
      "source": [
        "class model(nn.Module): #inherit from the nn.Moduel class (ie. base class which allows to use all layer and functions)\n",
        "\n",
        "  def __init__(self, num_features):\n",
        "    super().__init__() ##we call the parent class constructor to make sure all the behind the scence works is carried out *(must use)\n",
        "\n",
        "    self.Linear = nn.Linear(num_features, 1)\n",
        "    self.sigmoid = nn.Sigmoid()\n",
        "\n",
        "\n",
        "  def forward(self, features):\n",
        "\n",
        "    out = self.Linear(features)\n",
        "    out = self.sigmoid(out)\n",
        "    return out\n"
      ],
      "metadata": {
        "id": "Ma8wS_yYt5jS"
      },
      "execution_count": 38,
      "outputs": []
    },
    {
      "cell_type": "code",
      "source": [
        "#creating fake datasest\n",
        "\n",
        "features = torch.rand(10,5)\n",
        "features"
      ],
      "metadata": {
        "colab": {
          "base_uri": "https://localhost:8080/"
        },
        "id": "XMtFHuF6xnB6",
        "outputId": "e85c21de-7b14-4f28-9381-358f1b1eccfe"
      },
      "execution_count": 39,
      "outputs": [
        {
          "output_type": "execute_result",
          "data": {
            "text/plain": [
              "tensor([[0.6506, 0.8171, 0.6007, 0.2049, 0.6461],\n",
              "        [0.3024, 0.1713, 0.4880, 0.6442, 0.5989],\n",
              "        [0.4664, 0.1003, 0.4601, 0.8061, 0.0223],\n",
              "        [0.6584, 0.4478, 0.6170, 0.3761, 0.3784],\n",
              "        [0.2500, 0.1180, 0.5394, 0.0226, 0.9469],\n",
              "        [0.1119, 0.8502, 0.6641, 0.4856, 0.4535],\n",
              "        [0.6481, 0.2976, 0.8704, 0.8403, 0.1363],\n",
              "        [0.3601, 0.4870, 0.8720, 0.6014, 0.8067],\n",
              "        [0.5783, 0.4026, 0.5546, 0.4387, 0.6263],\n",
              "        [0.4428, 0.4579, 0.0408, 0.4414, 0.5454]])"
            ]
          },
          "metadata": {},
          "execution_count": 39
        }
      ]
    },
    {
      "cell_type": "code",
      "source": [
        "model = model(features.shape[1])"
      ],
      "metadata": {
        "id": "OHK1gZb0xtlM"
      },
      "execution_count": 40,
      "outputs": []
    },
    {
      "cell_type": "code",
      "source": [
        "model(features) # this is the standard way to call the forward function"
      ],
      "metadata": {
        "colab": {
          "base_uri": "https://localhost:8080/"
        },
        "id": "HMz6z3S-x25Q",
        "outputId": "e77d9d1f-7437-4759-e6d0-e753a9e689b0"
      },
      "execution_count": 41,
      "outputs": [
        {
          "output_type": "execute_result",
          "data": {
            "text/plain": [
              "tensor([[0.4110],\n",
              "        [0.3280],\n",
              "        [0.3123],\n",
              "        [0.3676],\n",
              "        [0.3775],\n",
              "        [0.3921],\n",
              "        [0.3098],\n",
              "        [0.3422],\n",
              "        [0.3589],\n",
              "        [0.3796]], grad_fn=<SigmoidBackward0>)"
            ]
          },
          "metadata": {},
          "execution_count": 41
        }
      ]
    },
    {
      "cell_type": "code",
      "source": [
        "model.Linear.weight"
      ],
      "metadata": {
        "colab": {
          "base_uri": "https://localhost:8080/"
        },
        "id": "I8QMc6akyRbT",
        "outputId": "60d64d57-a34c-4072-f884-a4f08694c42e"
      },
      "execution_count": 42,
      "outputs": [
        {
          "output_type": "execute_result",
          "data": {
            "text/plain": [
              "Parameter containing:\n",
              "tensor([[-0.0456,  0.3274, -0.1223, -0.4036, -0.0359]], requires_grad=True)"
            ]
          },
          "metadata": {},
          "execution_count": 42
        }
      ]
    },
    {
      "cell_type": "code",
      "source": [
        "model.Linear.bias"
      ],
      "metadata": {
        "colab": {
          "base_uri": "https://localhost:8080/"
        },
        "id": "6yFVavBgyral",
        "outputId": "1d0bb35d-8db9-4d5c-eca8-b1042916deba"
      },
      "execution_count": 43,
      "outputs": [
        {
          "output_type": "execute_result",
          "data": {
            "text/plain": [
              "Parameter containing:\n",
              "tensor([-0.4184], requires_grad=True)"
            ]
          },
          "metadata": {},
          "execution_count": 43
        }
      ]
    },
    {
      "cell_type": "code",
      "source": [
        "!pip install torchinfo"
      ],
      "metadata": {
        "colab": {
          "base_uri": "https://localhost:8080/"
        },
        "id": "IcHn6BO5ywUd",
        "outputId": "7154c22d-7a9c-4e99-b89a-48611c60f357"
      },
      "execution_count": 44,
      "outputs": [
        {
          "output_type": "stream",
          "name": "stdout",
          "text": [
            "Requirement already satisfied: torchinfo in /usr/local/lib/python3.12/dist-packages (1.8.0)\n"
          ]
        }
      ]
    },
    {
      "cell_type": "code",
      "source": [
        "from torchinfo import summary\n",
        "\n",
        "summary(model, input_size = [10,5] )"
      ],
      "metadata": {
        "colab": {
          "base_uri": "https://localhost:8080/"
        },
        "id": "NMjKaC6Dy0N5",
        "outputId": "56b586b6-ab78-40f7-9b72-7b175820f820"
      },
      "execution_count": 45,
      "outputs": [
        {
          "output_type": "execute_result",
          "data": {
            "text/plain": [
              "==========================================================================================\n",
              "Layer (type:depth-idx)                   Output Shape              Param #\n",
              "==========================================================================================\n",
              "model                                    [10, 1]                   --\n",
              "├─Linear: 1-1                            [10, 1]                   6\n",
              "├─Sigmoid: 1-2                           [10, 1]                   --\n",
              "==========================================================================================\n",
              "Total params: 6\n",
              "Trainable params: 6\n",
              "Non-trainable params: 0\n",
              "Total mult-adds (Units.MEGABYTES): 0.00\n",
              "==========================================================================================\n",
              "Input size (MB): 0.00\n",
              "Forward/backward pass size (MB): 0.00\n",
              "Params size (MB): 0.00\n",
              "Estimated Total Size (MB): 0.00\n",
              "=========================================================================================="
            ]
          },
          "metadata": {},
          "execution_count": 45
        }
      ]
    },
    {
      "cell_type": "code",
      "source": [
        "class Model2(nn.Module):\n",
        "\n",
        "  def __init__(self, input_features):\n",
        "    super().__init__()\n",
        "\n",
        "    self.network = nn.Sequential(\n",
        "         nn.Linear(input_features,3),\n",
        "         nn.ReLU(),\n",
        "         nn.Linear(3, 1),\n",
        "         nn.Sigmoid()\n",
        "    )\n",
        "\n",
        "\n",
        "  def forward(self, input):\n",
        "    y_pred = self.network(dataset)\n",
        "\n",
        "    return y_pred\n"
      ],
      "metadata": {
        "id": "etffuEWry7Ax"
      },
      "execution_count": 46,
      "outputs": []
    },
    {
      "cell_type": "code",
      "source": [
        "dataset = torch.rand(5,5)"
      ],
      "metadata": {
        "id": "8b1M9M2P0haK"
      },
      "execution_count": 47,
      "outputs": []
    },
    {
      "cell_type": "code",
      "source": [
        "model2 = Model2(dataset.shape[1])"
      ],
      "metadata": {
        "id": "9QiylT0u0nGA"
      },
      "execution_count": 48,
      "outputs": []
    },
    {
      "cell_type": "code",
      "source": [
        "model2(dataset)"
      ],
      "metadata": {
        "colab": {
          "base_uri": "https://localhost:8080/"
        },
        "id": "QeCTr7rM0uFd",
        "outputId": "221cc97e-6c94-4433-bc29-7ac0f706d0a0"
      },
      "execution_count": 49,
      "outputs": [
        {
          "output_type": "execute_result",
          "data": {
            "text/plain": [
              "tensor([[0.6071],\n",
              "        [0.6521],\n",
              "        [0.6089],\n",
              "        [0.5955],\n",
              "        [0.6075]], grad_fn=<SigmoidBackward0>)"
            ]
          },
          "metadata": {},
          "execution_count": 49
        }
      ]
    },
    {
      "cell_type": "code",
      "source": [
        "summary ( model2, input_size= dataset.shape)"
      ],
      "metadata": {
        "colab": {
          "base_uri": "https://localhost:8080/"
        },
        "id": "xj7ZP7Xb0wO0",
        "outputId": "f6430977-85a6-44a8-f3ba-e579889dc53a"
      },
      "execution_count": 50,
      "outputs": [
        {
          "output_type": "execute_result",
          "data": {
            "text/plain": [
              "==========================================================================================\n",
              "Layer (type:depth-idx)                   Output Shape              Param #\n",
              "==========================================================================================\n",
              "Model2                                   [5, 1]                    --\n",
              "├─Sequential: 1-1                        [5, 1]                    --\n",
              "│    └─Linear: 2-1                       [5, 3]                    18\n",
              "│    └─ReLU: 2-2                         [5, 3]                    --\n",
              "│    └─Linear: 2-3                       [5, 1]                    4\n",
              "│    └─Sigmoid: 2-4                      [5, 1]                    --\n",
              "==========================================================================================\n",
              "Total params: 22\n",
              "Trainable params: 22\n",
              "Non-trainable params: 0\n",
              "Total mult-adds (Units.MEGABYTES): 0.00\n",
              "==========================================================================================\n",
              "Input size (MB): 0.00\n",
              "Forward/backward pass size (MB): 0.00\n",
              "Params size (MB): 0.00\n",
              "Estimated Total Size (MB): 0.00\n",
              "=========================================================================================="
            ]
          },
          "metadata": {},
          "execution_count": 50
        }
      ]
    },
    {
      "cell_type": "code",
      "source": [],
      "metadata": {
        "id": "zKQKyZm61fBs"
      },
      "execution_count": null,
      "outputs": []
    }
  ]
}